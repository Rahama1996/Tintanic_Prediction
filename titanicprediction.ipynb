{
 "cells": [
  {
   "cell_type": "code",
   "execution_count": null,
   "metadata": {},
   "outputs": [],
   "source": [
    "import numpy as np\n",
    "import pandas as pd\n",
    "import matplotlib.pyplot as plt\n",
    "import seaborn as sns\n",
    "from sklearn.model_selection import train_test_split, cross_val_score\n",
    "from sklearn.linear_model import LogisticRegression\n",
    "from sklearn.metrics import confusion_matrix\n",
    "from sklearn.metrics import accuracy_score\n",
    "from sklearn.preprocessing import LabelEncoder\n",
    "from sklearn.preprocessing import StandardScaler\n",
    "from sklearn import metrics\n",
    "from sklearn.metrics import mean_absolute_percentage_error"
   ]
  },
  {
   "cell_type": "code",
   "execution_count": null,
   "metadata": {},
   "outputs": [],
   "source": [
    "#reading the training dataset\n",
    "testing=pd.read_csv('/kaggle/input/traindata/train.csv')\n",
    "testing.info()"
   ]
  },
  {
   "cell_type": "code",
   "execution_count": null,
   "metadata": {},
   "outputs": [],
   "source": [
    "testing.describe()"
   ]
  },
  {
   "cell_type": "code",
   "execution_count": null,
   "metadata": {},
   "outputs": [],
   "source": [
    "#dropping the cabin column since a significant number of rows have no value\n",
    "testing=testing.drop(\"Cabin\", axis= 1 )\n",
    "testing"
   ]
  },
  {
   "cell_type": "code",
   "execution_count": null,
   "metadata": {},
   "outputs": [],
   "source": [
    "#distribution of Age\n",
    "sns.histplot(testing['Age'])\n",
    "plt.show()"
   ]
  },
  {
   "cell_type": "code",
   "execution_count": null,
   "metadata": {},
   "outputs": [],
   "source": [
    "#filling the rows that have no value for age with the mean age\n",
    "newage=testing.Age.fillna(testing['Age'].mean())\n",
    "testing['Age']=newage\n",
    "testing['Age']=testing['Age'].astype(int)"
   ]
  },
  {
   "cell_type": "code",
   "execution_count": null,
   "metadata": {},
   "outputs": [],
   "source": [
    "testing=testing.drop(testing[testing['Embarked'].isna()].index)\n",
    "testing.describe()"
   ]
  },
  {
   "cell_type": "code",
   "execution_count": null,
   "metadata": {},
   "outputs": [],
   "source": [
    "#Relationship between Age and survival, fare and survival\n",
    "fig, ax= plt.subplots(1,2, figsize=(10,5))\n",
    "sns.scatterplot(x=testing['Age'], y= testing['Survived'], ax=ax[0])\n",
    "sns.scatterplot(x=testing['Fare'], y=testing['Survived'], ax=ax[1])\n",
    "plt.show()"
   ]
  },
  {
   "cell_type": "code",
   "execution_count": null,
   "metadata": {},
   "outputs": [],
   "source": [
    "#Relationship between categorical data and survival\n",
    "fig, ax= plt.subplots(3,2, figsize=(10,5))\n",
    "sns.countplot(x=testing['Survived'], hue=testing['Sex'],  ax=ax[0,0])\n",
    "sns.countplot(x=testing['Survived'], hue=testing['Pclass'], ax=ax[0,1])\n",
    "sns.countplot(x=testing['Survived'], hue=testing['SibSp'],  ax=ax[1,0])\n",
    "sns.countplot(x=testing['Survived'], hue=testing['Parch'], ax=ax[1,1])\n",
    "sns.countplot(x=testing['Survived'], hue=testing['Embarked'], ax=ax[2,0])\n",
    "plt.show()"
   ]
  },
  {
   "cell_type": "code",
   "execution_count": null,
   "metadata": {},
   "outputs": [],
   "source": [
    "#Transformin sex and Embarked into numerical data\n",
    "le= LabelEncoder()\n",
    "testing['Sex']= le.fit_transform(testing['Sex'])\n",
    "testing['Embarked']= le.fit_transform(testing['Embarked'])\n",
    "testing.info()"
   ]
  },
  {
   "cell_type": "code",
   "execution_count": null,
   "metadata": {},
   "outputs": [],
   "source": [
    "#correlation between variables\n",
    "plt.figure(figsize=(20,6))\n",
    "sns.heatmap(testing.corr(numeric_only=True), annot=True, cmap='coolwarm')\n",
    "plt.show()"
   ]
  },
  {
   "cell_type": "code",
   "execution_count": null,
   "metadata": {},
   "outputs": [],
   "source": [
    "#splitting data set into train and test data\n",
    "features=['Pclass', 'Age', 'Sex', 'SibSp', 'Parch', 'Fare', 'Embarked']\n",
    "target=['Survived']\n",
    "x_train, x_test, y_train, y_test = train_test_split(testing[features], testing[target],\n",
    "                                                    train_size=0.7, test_size=0.3, shuffle=False)\n",
    "print(\"X_train: {}, X_test: {}\".format(len(x_train), len(x_test)))\n",
    "print(\"Y_train: {}, Y_test: {}\".format(len(y_train), len(y_test)))"
   ]
  },
  {
   "cell_type": "code",
   "execution_count": null,
   "metadata": {},
   "outputs": [],
   "source": [
    "#Fitting the Logistic Regression Model\n",
    "scaler= StandardScaler()\n",
    "X_train= scaler.fit_transform(x_train)\n",
    "X_test= scaler.transform(x_test)\n",
    "model = LogisticRegression()\n",
    "model.fit(x_train, y_train)"
   ]
  },
  {
   "cell_type": "code",
   "execution_count": null,
   "metadata": {},
   "outputs": [],
   "source": [
    "#Predicting the values of Survival in test data and comparing with actual values\n",
    "y_pred= model.predict(x_test)\n",
    "difference=pd.DataFrame( np.c_[y_test, y_pred], columns=[\"Actual_Value\", \"Predicted_Value\"])\n",
    "difference[difference['Actual_Value'] == difference['Predicted_Value'] ]\n"
   ]
  },
  {
   "cell_type": "code",
   "execution_count": null,
   "metadata": {},
   "outputs": [],
   "source": [
    "cm=confusion_matrix(y_test, y_pred)\n",
    "\n",
    "print(\"Accuracy: \", accuracy_score(y_test, y_pred))\n",
    "\n",
    "cm"
   ]
  },
  {
   "cell_type": "code",
   "execution_count": null,
   "metadata": {},
   "outputs": [],
   "source": [
    "#Using a histogram to compare actual vs predicted results\n",
    "sns.countplot( x='Survived', data=y_test, label='Actual_Value', color='red')\n",
    "sns.histplot(y_pred, label='Predicted_Value', color='blue')\n",
    "plt.title(\"Logistic Regression Model\")\n",
    "plt.show()"
   ]
  }
 ],
 "metadata": {
  "language_info": {
   "name": "python"
  },
  "orig_nbformat": 4
 },
 "nbformat": 4,
 "nbformat_minor": 2
}
